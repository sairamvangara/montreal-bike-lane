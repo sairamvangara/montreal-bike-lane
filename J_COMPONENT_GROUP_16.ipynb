{
 "cells": [
  {
   "cell_type": "markdown",
   "metadata": {
    "id": "5fCEDCU_qrC0"
   },
   "source": [
    "<p><img alt=\"Colaboratory logo\" height=\"45px\" src=\"/img/colab_favicon.ico\" align=\"left\" hspace=\"10px\" vspace=\"0px\"></p>\n",
    "\n",
    "<h1>What is Colaboratory?</h1>\n",
    "\n",
    "Colaboratory, or \"Colab\" for short, allows you to write and execute Python in your browser, with \n",
    "- Zero configuration required\n",
    "- Free access to GPUs\n",
    "- Easy sharing\n",
    "\n",
    "Whether you're a **student**, a **data scientist** or an **AI researcher**, Colab can make your work easier. Watch [Introduction to Colab](https://www.youtube.com/watch?v=inN8seMm7UI) to learn more, or just get started below!"
   ]
  },
  {
   "cell_type": "markdown",
   "metadata": {
    "id": "GJBs_flRovLc"
   },
   "source": [
    "## **Getting started**\n",
    "\n",
    "The document you are reading is not a static web page, but an interactive environment called a **Colab notebook** that lets you write and execute code.\n",
    "\n",
    "For example, here is a **code cell** with a short Python script that computes a value, stores it in a variable, and prints the result:"
   ]
  },
  {
   "cell_type": "code",
   "execution_count": null,
   "metadata": {
    "colab": {
     "base_uri": "https://localhost:8080/"
    },
    "id": "gJr_9dXGpJ05",
    "outputId": "cc5786e1-0748-478e-cd0c-533187554ac1"
   },
   "outputs": [
    {
     "data": {
      "text/plain": [
       "86400"
      ]
     },
     "execution_count": 30,
     "metadata": {},
     "output_type": "execute_result"
    }
   ],
   "source": [
    "seconds_in_a_day = 24 * 60 * 60\n",
    "seconds_in_a_day"
   ]
  },
  {
   "cell_type": "markdown",
   "metadata": {
    "id": "2fhs6GZ4qFMx"
   },
   "source": [
    "To execute the code in the above cell, select it with a click and then either press the play button to the left of the code, or use the keyboard shortcut \"Command/Ctrl+Enter\". To edit the code, just click the cell and start editing.\n",
    "\n",
    "Variables that you define in one cell can later be used in other cells:"
   ]
  },
  {
   "cell_type": "code",
   "execution_count": null,
   "metadata": {
    "colab": {
     "base_uri": "https://localhost:8080/"
    },
    "id": "-gE-Ez1qtyIA",
    "outputId": "444a3537-21d1-464b-9362-1f3290935858"
   },
   "outputs": [
    {
     "data": {
      "text/plain": [
       "604800"
      ]
     },
     "execution_count": 31,
     "metadata": {},
     "output_type": "execute_result"
    }
   ],
   "source": [
    "seconds_in_a_week = 7 * seconds_in_a_day\n",
    "seconds_in_a_week"
   ]
  },
  {
   "cell_type": "markdown",
   "metadata": {
    "id": "lSrWNr3MuFUS"
   },
   "source": [
    "Colab notebooks allow you to combine **executable code** and **rich text** in a single document, along with **images**, **HTML**, **LaTeX** and more. When you create your own Colab notebooks, they are stored in your Google Drive account. You can easily share your Colab notebooks with co-workers or friends, allowing them to comment on your notebooks or even edit them. To learn more, see [Overview of Colab](/notebooks/basic_features_overview.ipynb). To create a new Colab notebook you can use the File menu above, or use the following link: [create a new Colab notebook](http://colab.research.google.com#create=true).\n",
    "\n",
    "Colab notebooks are Jupyter notebooks that are hosted by Colab. To learn more about the Jupyter project, see [jupyter.org](https://www.jupyter.org)."
   ]
  },
  {
   "cell_type": "markdown",
   "metadata": {
    "id": "UdRyKR44dcNI"
   },
   "source": [
    "## Data science\n",
    "\n",
    "With Colab you can harness the full power of popular Python libraries to analyze and visualize data. The code cell below uses **numpy** to generate some random data, and uses **matplotlib** to visualize it. To edit the code, just click the cell and start editing."
   ]
  },
  {
   "cell_type": "code",
   "execution_count": null,
   "metadata": {
    "colab": {
     "base_uri": "https://localhost:8080/",
     "height": 281
    },
    "id": "C4HZx7Gndbrh",
    "outputId": "e00a710a-5122-4a03-f731-fa8191593d68"
   },
   "outputs": [
    {
     "data": {
      "image/png": "[encoded data removed]",
      "text/plain": [
       "<Figure size 432x288 with 1 Axes>"
      ]
     },
     "metadata": {
      "needs_background": "light"
     },
     "output_type": "display_data"
    }
   ],
   "source": [
    "import numpy as np\n",
    "from matplotlib import pyplot as plt\n",
    "\n",
    "ys = 200 + np.random.randn(100)\n",
    "x = [x for x in range(len(ys))]\n",
    "\n",
    "plt.plot(x, ys, '-')\n",
    "plt.fill_between(x, ys, 195, where=(ys > 195), facecolor='g', alpha=0.6)\n",
    "\n",
    "plt.title(\"Sample Visualization\")\n",
    "plt.show()"
   ]
  },
  {
   "cell_type": "code",
   "execution_count": null,
   "metadata": {
    "id": "Xg-5bWvosznh"
   },
   "outputs": [],
   "source": []
  },
  {
   "cell_type": "markdown",
   "metadata": {
    "id": "4_kCnsPUqS6o"
   },
   "source": [
    "You can import your own data into Colab notebooks from your Google Drive account, including from spreadsheets, as well as from Github and many other sources. To learn more about importing data, and how Colab can be used for data science, see the links below under [Working with Data](#working-with-data)."
   ]
  },
  {
   "cell_type": "markdown",
   "metadata": {
    "id": "OwuxHmxllTwN"
   },
   "source": [
    "## Machine learning\n",
    "\n",
    "With Colab you can import an image dataset, train an image classifier on it, and evaluate the model, all in just [a few lines of code](https://colab.research.google.com/github/tensorflow/docs/blob/master/site/en/tutorials/quickstart/beginner.ipynb). Colab notebooks execute code on Google's cloud servers, meaning you can leverage the power of Google hardware, including [GPUs and TPUs](#using-accelerated-hardware), regardless of the power of your machine. All you need is a browser."
   ]
  },
  {
   "cell_type": "markdown",
   "metadata": {
    "id": "ufxBm1yRnruN"
   },
   "source": [
    "Colab is used extensively in the machine learning community with applications including:\n",
    "- Getting started with TensorFlow\n",
    "- Developing and training neural networks\n",
    "- Experimenting with TPUs\n",
    "- Disseminating AI research\n",
    "- Creating tutorials\n",
    "\n",
    "To see sample Colab notebooks that demonstrate machine learning applications, see the [machine learning examples](#machine-learning-examples) below."
   ]
  },
  {
   "cell_type": "markdown",
   "metadata": {
    "id": "-Rh3-Vt9Nev9"
   },
   "source": [
    "## More Resources\n",
    "\n",
    "### Working with Notebooks in Colab\n",
    "- [Overview of Colaboratory](/notebooks/basic_features_overview.ipynb)\n",
    "- [Guide to Markdown](/notebooks/markdown_guide.ipynb)\n",
    "- [Importing libraries and installing dependencies](/notebooks/snippets/importing_libraries.ipynb)\n",
    "- [Saving and loading notebooks in GitHub](https://colab.research.google.com/github/googlecolab/colabtools/blob/master/notebooks/colab-github-demo.ipynb)\n",
    "- [Interactive forms](/notebooks/forms.ipynb)\n",
    "- [Interactive widgets](/notebooks/widgets.ipynb)\n",
    "- <img src=\"/img/new.png\" height=\"20px\" align=\"left\" hspace=\"4px\" alt=\"New\"></img>\n",
    " [TensorFlow 2 in Colab](/notebooks/tensorflow_version.ipynb)\n",
    "\n",
    "<a name=\"working-with-data\"></a>\n",
    "### Working with Data\n",
    "- [Loading data: Drive, Sheets, and Google Cloud Storage](/notebooks/io.ipynb) \n",
    "- [Charts: visualizing data](/notebooks/charts.ipynb)\n",
    "- [Getting started with BigQuery](/notebooks/bigquery.ipynb)\n",
    "\n",
    "### Machine Learning Crash Course\n",
    "These are a few of the notebooks from Google's online Machine Learning course. See the [full course website](https://developers.google.com/machine-learning/crash-course/) for more.\n",
    "- [Intro to Pandas DataFrame](https://colab.research.google.com/github/google/eng-edu/blob/main/ml/cc/exercises/pandas_dataframe_ultraquick_tutorial.ipynb)\n",
    "- [Linear regression with tf.keras using synthetic data](https://colab.research.google.com/github/google/eng-edu/blob/main/ml/cc/exercises/linear_regression_with_synthetic_data.ipynb)\n",
    "\n",
    "\n",
    "<a name=\"using-accelerated-hardware\"></a>\n",
    "### Using Accelerated Hardware\n",
    "- [TensorFlow with GPUs](/notebooks/gpu.ipynb)\n",
    "- [TensorFlow with TPUs](/notebooks/tpu.ipynb)"
   ]
  },
  {
   "cell_type": "markdown",
   "metadata": {
    "id": "P-H6Lw1vyNNd"
   },
   "source": [
    "<a name=\"machine-learning-examples\"></a>\n",
    "\n",
    "## Machine Learning Examples\n",
    "\n",
    "To see end-to-end examples of the interactive machine learning analyses that Colaboratory makes possible, check out these  tutorials using models from [TensorFlow Hub](https://tfhub.dev).\n",
    "\n",
    "A few featured examples:\n",
    "\n",
    "- [Retraining an Image Classifier](https://tensorflow.org/hub/tutorials/tf2_image_retraining): Build a Keras model on top of a pre-trained image classifier to distinguish flowers.\n",
    "- [Text Classification](https://tensorflow.org/hub/tutorials/tf2_text_classification): Classify IMDB movie reviews as either *positive* or *negative*.\n",
    "- [Style Transfer](https://tensorflow.org/hub/tutorials/tf2_arbitrary_image_stylization): Use deep learning to transfer style between images.\n",
    "- [Multilingual Universal Sentence Encoder Q&A](https://tensorflow.org/hub/tutorials/retrieval_with_tf_hub_universal_encoder_qa): Use a machine learning model to answer questions from the SQuAD dataset.\n",
    "- [Video Interpolation](https://tensorflow.org/hub/tutorials/tweening_conv3d): Predict what happened in a video between the first and the last frame.\n"
   ]
  },
  {
   "cell_type": "code",
   "execution_count": null,
   "metadata": {
    "colab": {
     "base_uri": "https://localhost:8080/"
    },
    "id": "H9S_k-7sh07N",
    "outputId": "1b5b0642-d759-425b-aa90-ee47af63ed27"
   },
   "outputs": [
    {
     "name": "stdout",
     "output_type": "stream",
     "text": [
      "           Date Unnamed: 1  Berri1  ...  Totem_Laurier  University  Viger\n",
      "0    01-01-2015      00:00      58  ...             78          21      6\n",
      "1    02-01-2015      00:00      75  ...             57          77      4\n",
      "2    03-01-2015      00:00      79  ...            174          40      5\n",
      "3    04-01-2015      00:00      10  ...             20           6      0\n",
      "4    05-01-2015      00:00      42  ...             41          56     10\n",
      "..          ...        ...     ...  ...            ...         ...    ...\n",
      "314  11-11-2015      00:00    3044  ...           1527        2860    356\n",
      "315  12-11-2015      00:00    1751  ...            955        1777    198\n",
      "316  13-11-2015      00:00    1818  ...           1040        1727    258\n",
      "317  14-11-2015      00:00     979  ...            805         737     73\n",
      "318  15-11-2015      00:00     913  ...            804         685     63\n",
      "\n",
      "[319 rows x 23 columns]\n"
     ]
    }
   ],
   "source": [
    "import pandas as pd\n",
    "d=pd.read_csv('/content/excel j comp3.csv')\n",
    "print(d)"
   ]
  },
  {
   "cell_type": "code",
   "execution_count": null,
   "metadata": {
    "colab": {
     "base_uri": "https://localhost:8080/"
    },
    "id": "NEYXcogzkOaO",
    "outputId": "0148aa15-bb1d-488e-e5a6-8a23fe0e8a61"
   },
   "outputs": [
    {
     "name": "stdout",
     "output_type": "stream",
     "text": [
      "0        12\n",
      "1         7\n",
      "2         7\n",
      "3         1\n",
      "4         0\n",
      "       ... \n",
      "314    1931\n",
      "315     930\n",
      "316     906\n",
      "317     759\n",
      "318     749\n",
      "Name: Boyer, Length: 319, dtype: int64 0        58\n",
      "1        75\n",
      "2        79\n",
      "3        10\n",
      "4        42\n",
      "       ... \n",
      "314    3044\n",
      "315    1751\n",
      "316    1818\n",
      "317     979\n",
      "318     913\n",
      "Name: Berri1, Length: 319, dtype: int64\n"
     ]
    }
   ],
   "source": [
    "x1=d['Boyer']\n",
    "y=d['Berri1']\n",
    "print(x1,y)"
   ]
  },
  {
   "cell_type": "code",
   "execution_count": null,
   "metadata": {
    "id": "WbTFwPAvEtLk"
   },
   "outputs": [],
   "source": [
    "ee=[]\n",
    "import numpy as np\n",
    "mm=[]\n",
    "cc=[]\n",
    "def liner(m1,c):\n",
    "  ye=[]\n",
    "  yp=[]\n",
    "  sum=0\n",
    "  mm.append(m1)\n",
    "  cc.append(c)\n",
    "  for i in range(0,len(x1)):\n",
    "    yp.append(m1*x1[i]+c)\n",
    "    ye.append((y[i]-yp[i])**2)\n",
    "  #print(ye)\n",
    "  for i in range(0,len(x1)):\n",
    "    sum=sum+ye[i]\n",
    "  ee1=np.mod(sum,len(x1))\n",
    "  print(ee1)\n",
    "  ee.append(ee1)\n",
    "  #print(ee1)"
   ]
  },
  {
   "cell_type": "code",
   "execution_count": null,
   "metadata": {
    "colab": {
     "base_uri": "https://localhost:8080/"
    },
    "id": "2OaQZXBt533Z",
    "outputId": "f7477f80-e5f9-47f3-ce24-f564564a00f9"
   },
   "outputs": [
    {
     "name": "stdout",
     "output_type": "stream",
     "text": [
      "6\n",
      "22\n",
      "32 42\n",
      "50\n",
      "lll 6\n"
     ]
    }
   ],
   "source": [
    "a=np.array(ee).min()\n",
    "print(a)\n",
    "ind=ee.index(a)\n",
    "print(ind)\n",
    "print(mm[ind],cc[ind])\n",
    "print(len(ee))\n",
    "print(\"lll\",ee[22])"
   ]
  },
  {
   "cell_type": "code",
   "execution_count": null,
   "metadata": {
    "colab": {
     "base_uri": "https://localhost:8080/"
    },
    "id": "jPHN94iXE7qC",
    "outputId": "9dad9396-652a-4ee7-80fb-412fba6f8663"
   },
   "outputs": [
    {
     "name": "stdout",
     "output_type": "stream",
     "text": [
      "215\n",
      "287\n",
      "267\n",
      "155\n",
      "270\n",
      "293\n",
      "224\n",
      "63\n",
      "129\n",
      "103\n",
      "304\n",
      "94\n",
      "111\n",
      "36\n",
      "188\n",
      "248\n",
      "216\n",
      "92\n",
      "195\n",
      "206\n",
      "125\n",
      "271\n",
      "6\n",
      "287\n",
      "157\n",
      "254\n",
      "259\n",
      "172\n",
      "312\n",
      "41\n",
      "316\n",
      "180\n",
      "271\n",
      "270\n",
      "177\n",
      "311\n",
      "34\n",
      "303\n",
      "161\n",
      "246\n",
      "239\n",
      "140\n",
      "268\n",
      "304\n",
      "248\n",
      "100\n",
      "179\n",
      "166\n",
      "61\n",
      "183\n"
     ]
    }
   ],
   "source": [
    "for i in range(0,50):\n",
    "  liner(i+10,i+20)"
   ]
  },
  {
   "cell_type": "code",
   "execution_count": null,
   "metadata": {
    "colab": {
     "base_uri": "https://localhost:8080/",
     "height": 283
    },
    "id": "lhJSAF5BGX_9",
    "outputId": "d731960f-79d2-4421-9d5b-b5d204b73b59"
   },
   "outputs": [
    {
     "data": {
      "text/plain": [
       "[<matplotlib.lines.Line2D at 0x7f74fd1b90d0>]"
      ]
     },
     "execution_count": 8,
     "metadata": {},
     "output_type": "execute_result"
    },
    {
     "data": {
      "image/png": "[encoded data removed]",
      "text/plain": [
       "<Figure size 432x288 with 1 Axes>"
      ]
     },
     "metadata": {
      "needs_background": "light"
     },
     "output_type": "display_data"
    }
   ],
   "source": [
    "from matplotlib import pyplot as pt\n",
    "import numpy as np\n",
    "x=[]\n",
    "for i in range(0,50):\n",
    "  x.append(i)\n",
    "pt.plot(x,ee)"
   ]
  },
  {
   "cell_type": "code",
   "execution_count": null,
   "metadata": {
    "colab": {
     "base_uri": "https://localhost:8080/",
     "height": 283
    },
    "id": "x5f0egOtkntG",
    "outputId": "678d5b94-cf17-4460-9e74-81edf1b49f12"
   },
   "outputs": [
    {
     "data": {
      "text/plain": [
       "<matplotlib.collections.PathCollection at 0x7f74fd122b10>"
      ]
     },
     "execution_count": 9,
     "metadata": {},
     "output_type": "execute_result"
    },
    {
     "data": {
      "image/png": "[encoded data removed]",
      "text/plain": [
       "<Figure size 432x288 with 1 Axes>"
      ]
     },
     "metadata": {
      "needs_background": "light"
     },
     "output_type": "display_data"
    }
   ],
   "source": [
    "from matplotlib import pyplot as plt\n",
    "plt.scatter(x1,y)"
   ]
  },
  {
   "cell_type": "code",
   "execution_count": null,
   "metadata": {
    "colab": {
     "base_uri": "https://localhost:8080/"
    },
    "id": "vGV6MImok1Qn",
    "outputId": "ac1651eb-bae5-497b-eb79-e9dd60135a66"
   },
   "outputs": [
    {
     "name": "stdout",
     "output_type": "stream",
     "text": [
      "0         4\n",
      "1         5\n",
      "2         3\n",
      "3        21\n",
      "4         2\n",
      "       ... \n",
      "314    2828\n",
      "315    1670\n",
      "316    1711\n",
      "317     978\n",
      "318    1028\n",
      "Name: lipian, Length: 319, dtype: int64 0        58\n",
      "1        75\n",
      "2        79\n",
      "3        10\n",
      "4        42\n",
      "       ... \n",
      "314    3044\n",
      "315    1751\n",
      "316    1818\n",
      "317     979\n",
      "318     913\n",
      "Name: Berri1, Length: 319, dtype: int64\n"
     ]
    }
   ],
   "source": [
    "\n",
    "x2=d['lipian']\n",
    "y=d['Berri1']\n",
    "print(x2,y)"
   ]
  },
  {
   "cell_type": "code",
   "execution_count": null,
   "metadata": {
    "id": "TgvgBLkcQWFv"
   },
   "outputs": [],
   "source": [
    "ee=[]\n",
    "import numpy as np\n",
    "mm=[]\n",
    "cc=[]\n",
    "def liner(m1,m2,c):\n",
    "  ye=[]\n",
    "  yp=[]\n",
    "  sum=0\n",
    "  mm.append(m1)\n",
    "  cc.append(c)\n",
    "  for i in range(0,len(x1)):\n",
    "    yp.append(m1*x1[i]+m2*x2[i]+c)\n",
    "    ye.append((y[i]-yp[i])**2)\n",
    "  for i in range(0,len(x1)):\n",
    "    sum=sum+ye[i]\n",
    "  ee1=np.mod(sum,len(x1))\n",
    "  ee.append(ee1)\n",
    "  print(ee1)"
   ]
  },
  {
   "cell_type": "code",
   "execution_count": null,
   "metadata": {
    "colab": {
     "base_uri": "https://localhost:8080/"
    },
    "id": "TubaltyG7KxC",
    "outputId": "060f3a31-b34d-4d37-b25b-0229fba8fc53"
   },
   "outputs": [
    {
     "name": "stdout",
     "output_type": "stream",
     "text": [
      "6\n",
      "16\n",
      "26 32\n",
      "50\n",
      "lll 6\n"
     ]
    }
   ],
   "source": [
    "a=np.array(ee).min()\n",
    "print(a)\n",
    "ind=ee.index(a)\n",
    "print(ind)\n",
    "print(mm[ind],cc[ind])\n",
    "print(len(ee))\n",
    "print(\"lll\",ee[16])"
   ]
  },
  {
   "cell_type": "code",
   "execution_count": null,
   "metadata": {
    "colab": {
     "base_uri": "https://localhost:8080/"
    },
    "id": "JivLZIqnQz9g",
    "outputId": "475e1997-4409-4a66-ec74-519cd14c8951"
   },
   "outputs": [
    {
     "name": "stdout",
     "output_type": "stream",
     "text": [
      "92\n",
      "302\n",
      "42\n",
      "269\n",
      "26\n",
      "270\n",
      "44\n",
      "305\n",
      "96\n",
      "55\n",
      "182\n",
      "158\n",
      "302\n",
      "295\n",
      "137\n",
      "147\n",
      "6\n",
      "33\n",
      "228\n",
      "272\n",
      "165\n",
      "226\n",
      "136\n",
      "214\n",
      "141\n",
      "236\n",
      "180\n",
      "292\n",
      "253\n",
      "63\n",
      "41\n",
      "187\n",
      "182\n",
      "26\n",
      "38\n",
      "218\n",
      "247\n",
      "125\n",
      "171\n",
      "66\n",
      "129\n",
      "41\n",
      "121\n",
      "50\n",
      "147\n",
      "93\n",
      "207\n",
      "170\n",
      "301\n",
      "281\n"
     ]
    }
   ],
   "source": [
    "for i in range(0,50):\n",
    "  liner(i+10,i+20,i+i)"
   ]
  },
  {
   "cell_type": "code",
   "execution_count": null,
   "metadata": {
    "colab": {
     "base_uri": "https://localhost:8080/",
     "height": 283
    },
    "id": "D2JuvPj5S5RO",
    "outputId": "47d7a8b2-5a08-4624-949e-942d7c3f8636"
   },
   "outputs": [
    {
     "data": {
      "text/plain": [
       "[<matplotlib.lines.Line2D at 0x7f74fcf07810>]"
      ]
     },
     "execution_count": 25,
     "metadata": {},
     "output_type": "execute_result"
    },
    {
     "data": {
      "image/png": "[encoded data removed]",
      "text/plain": [
       "<Figure size 432x288 with 1 Axes>"
      ]
     },
     "metadata": {
      "needs_background": "light"
     },
     "output_type": "display_data"
    }
   ],
   "source": [
    "from matplotlib import pyplot as pt\n",
    "import numpy as np\n",
    "x=[]\n",
    "for i in range(0,50):\n",
    "  x.append(i)\n",
    "pt.plot(x,ee)"
   ]
  },
  {
   "cell_type": "code",
   "execution_count": null,
   "metadata": {
    "colab": {
     "base_uri": "https://localhost:8080/",
     "height": 283
    },
    "id": "Qq2eQKPzljK2",
    "outputId": "8fa273b0-864a-48ac-f30e-aa8d06b92416"
   },
   "outputs": [
    {
     "data": {
      "text/plain": [
       "<matplotlib.collections.PathCollection at 0x7f74fcfcb7d0>"
      ]
     },
     "execution_count": 26,
     "metadata": {},
     "output_type": "execute_result"
    },
    {
     "data": {
      "image/png": "[encoded data removed]",
      "text/plain": [
       "<Figure size 432x288 with 1 Axes>"
      ]
     },
     "metadata": {
      "needs_background": "light"
     },
     "output_type": "display_data"
    }
   ],
   "source": [
    "from matplotlib import pyplot as plt\n",
    "plt.scatter(x2,y)"
   ]
  },
  {
   "cell_type": "code",
   "execution_count": null,
   "metadata": {
    "colab": {
     "base_uri": "https://localhost:8080/"
    },
    "id": "lD-4ucO8ls6v",
    "outputId": "74a47573-e395-4f4a-e675-521e733e3c36"
   },
   "outputs": [
    {
     "name": "stdout",
     "output_type": "stream",
     "text": [
      "0        17\n",
      "1        15\n",
      "2         7\n",
      "3         0\n",
      "4         0\n",
      "       ... \n",
      "314    1393\n",
      "315     888\n",
      "316     873\n",
      "317     322\n",
      "318     348\n",
      "Name: california, Length: 319, dtype: int64 0        58\n",
      "1        75\n",
      "2        79\n",
      "3        10\n",
      "4        42\n",
      "       ... \n",
      "314    3044\n",
      "315    1751\n",
      "316    1818\n",
      "317     979\n",
      "318     913\n",
      "Name: Berri1, Length: 319, dtype: int64\n"
     ]
    }
   ],
   "source": [
    "x3=d['california']\n",
    "y=d['Berri1']\n",
    "print(x3,y)"
   ]
  },
  {
   "cell_type": "code",
   "execution_count": null,
   "metadata": {
    "id": "czzSewN-YOiM"
   },
   "outputs": [],
   "source": [
    "ee=[]\n",
    "import numpy as np\n",
    "mm=[]\n",
    "cc=[]\n",
    "def liner(m1,m2,m3,c):\n",
    "  ye=[]\n",
    "  yp=[]\n",
    "  sum=0\n",
    "  mm.append(m1)\n",
    "  cc.append(c)\n",
    "  \n",
    "  for i in range(0,len(x1)):\n",
    "    yp.append(m1*x1[i]+m2*x2[i]+m3*x3[i]+c)\n",
    "    ye.append((y[i]-yp[i])**2)\n",
    "  for i in range(0,len(x1)):\n",
    "    sum=sum+ye[i]\n",
    "  ee1=np.mod(sum,len(x1))\n",
    "  ee.append(ee1)\n",
    "  print(ee1)"
   ]
  },
  {
   "cell_type": "code",
   "execution_count": null,
   "metadata": {
    "colab": {
     "base_uri": "https://localhost:8080/"
    },
    "id": "d0ItWxxSQIHD",
    "outputId": "e105ff6e-d854-406e-f93b-81b906eebfdb"
   },
   "outputs": [
    {
     "name": "stdout",
     "output_type": "stream",
     "text": [
      "7\n",
      "90\n",
      "140 91\n",
      "100\n",
      "lll 7\n"
     ]
    }
   ],
   "source": [
    "a=np.array(ee).min()\n",
    "print(a)\n",
    "ind=ee.index(a)\n",
    "print(ind)\n",
    "print(mm[ind],cc[ind])\n",
    "print(len(ee))\n",
    "print(\"lll\",ee[90])"
   ]
  },
  {
   "cell_type": "code",
   "execution_count": null,
   "metadata": {
    "colab": {
     "base_uri": "https://localhost:8080/"
    },
    "id": "w3UqTEQzYcYo",
    "outputId": "e37c14e5-e6c9-4e02-c66d-77bff7cc33ab"
   },
   "outputs": [
    {
     "name": "stdout",
     "output_type": "stream",
     "text": [
      "261\n",
      "211\n",
      "194\n",
      "210\n",
      "259\n",
      "22\n",
      "137\n",
      "285\n",
      "147\n",
      "42\n",
      "289\n",
      "250\n",
      "244\n",
      "271\n",
      "12\n",
      "105\n",
      "231\n",
      "71\n",
      "263\n",
      "169\n",
      "108\n",
      "80\n",
      "85\n",
      "123\n",
      "194\n",
      "298\n",
      "116\n",
      "286\n",
      "170\n",
      "87\n",
      "37\n",
      "20\n",
      "36\n",
      "85\n",
      "167\n",
      "282\n",
      "111\n",
      "292\n",
      "187\n",
      "115\n",
      "76\n",
      "70\n",
      "97\n",
      "157\n",
      "250\n",
      "57\n",
      "216\n",
      "89\n",
      "314\n",
      "253\n",
      "225\n",
      "230\n",
      "268\n",
      "20\n",
      "124\n",
      "261\n",
      "112\n",
      "315\n",
      "232\n",
      "182\n",
      "165\n",
      "181\n",
      "230\n",
      "312\n",
      "108\n",
      "256\n",
      "118\n",
      "13\n",
      "260\n",
      "221\n",
      "215\n",
      "242\n",
      "302\n",
      "76\n",
      "202\n",
      "42\n",
      "234\n",
      "140\n",
      "79\n",
      "51\n",
      "56\n",
      "94\n",
      "165\n",
      "269\n",
      "87\n",
      "257\n",
      "141\n",
      "58\n",
      "8\n",
      "310\n",
      "7\n",
      "56\n",
      "138\n",
      "253\n",
      "82\n",
      "263\n",
      "158\n",
      "86\n",
      "47\n",
      "41\n"
     ]
    }
   ],
   "source": [
    "for i in range(0,100):\n",
    "  liner(i+50,i+100,i+i,i+1)"
   ]
  },
  {
   "cell_type": "code",
   "execution_count": null,
   "metadata": {
    "colab": {
     "base_uri": "https://localhost:8080/",
     "height": 283
    },
    "id": "RMicv19qYp3i",
    "outputId": "0803cb03-e7da-4731-ee99-c0c5447cd0a3"
   },
   "outputs": [
    {
     "data": {
      "text/plain": [
       "[<matplotlib.lines.Line2D at 0x7f74fd1f0590>]"
      ]
     },
     "execution_count": 32,
     "metadata": {},
     "output_type": "execute_result"
    },
    {
     "data": {
      "image/png": "[encoded data removed]",
      "text/plain": [
       "<Figure size 432x288 with 1 Axes>"
      ]
     },
     "metadata": {
      "needs_background": "light"
     },
     "output_type": "display_data"
    }
   ],
   "source": [
    "from matplotlib import pyplot as pt\n",
    "import numpy as np\n",
    "x=[]\n",
    "for i in range(0,100):\n",
    "  x.append(i)\n",
    "pt.plot(x,ee)"
   ]
  },
  {
   "cell_type": "code",
   "execution_count": null,
   "metadata": {
    "colab": {
     "base_uri": "https://localhost:8080/",
     "height": 283
    },
    "id": "wc-iDTf3l9aI",
    "outputId": "ad22ffbb-5504-4329-85bc-b48772d597e1"
   },
   "outputs": [
    {
     "data": {
      "text/plain": [
       "<matplotlib.collections.PathCollection at 0x7f7503571b50>"
      ]
     },
     "execution_count": 33,
     "metadata": {},
     "output_type": "execute_result"
    },
    {
     "data": {
      "image/png": "[encoded data removed]",
      "text/plain": [
       "<Figure size 432x288 with 1 Axes>"
      ]
     },
     "metadata": {
      "needs_background": "light"
     },
     "output_type": "display_data"
    }
   ],
   "source": [
    "from matplotlib import pyplot as plt\n",
    "plt.scatter(x3,y)"
   ]
  },
  {
   "cell_type": "code",
   "execution_count": null,
   "metadata": {
    "colab": {
     "base_uri": "https://localhost:8080/"
    },
    "id": "77cmSmzzmHpL",
    "outputId": "03a715b2-68af-4836-a800-e22b8d26bb1d"
   },
   "outputs": [
    {
     "name": "stdout",
     "output_type": "stream",
     "text": [
      "0        49\n",
      "1       113\n",
      "2       107\n",
      "3        35\n",
      "4        90\n",
      "       ... \n",
      "314    3603\n",
      "315    2048\n",
      "316    2115\n",
      "317    1112\n",
      "318    1128\n",
      "Name: Maisonneuve_2, Length: 319, dtype: int64 0        58\n",
      "1        75\n",
      "2        79\n",
      "3        10\n",
      "4        42\n",
      "       ... \n",
      "314    3044\n",
      "315    1751\n",
      "316    1818\n",
      "317     979\n",
      "318     913\n",
      "Name: Berri1, Length: 319, dtype: int64\n"
     ]
    }
   ],
   "source": [
    "x4=d['Maisonneuve_2']\n",
    "y=d['Berri1']\n",
    "print(x4,y)"
   ]
  },
  {
   "cell_type": "code",
   "execution_count": null,
   "metadata": {
    "id": "IYUgPCjyZMoI"
   },
   "outputs": [],
   "source": [
    "ee=[]\n",
    "import numpy as np\n",
    "mm=[]\n",
    "cc=[]\n",
    "def liner(m1,m2,m3,m4,c):\n",
    "  ye=[]\n",
    "  yp=[]\n",
    "  sum=0\n",
    "  mm.append(m1)\n",
    "  cc.append(c)\n",
    "  \n",
    "  for i in range(0,len(x1)):\n",
    "    yp.append(m1*x1[i]+m2*x2[i]+m3*x3[i]+m4*x4[i]+c)\n",
    "    ye.append((y[i]-yp[i])**2)\n",
    "  for i in range(0,len(x1)):\n",
    "    sum=sum+ye[i]\n",
    "  ee1=np.mod(sum,len(x1))\n",
    "  ee.append(ee1)\n",
    "  print(ee1)"
   ]
  },
  {
   "cell_type": "code",
   "execution_count": null,
   "metadata": {
    "colab": {
     "base_uri": "https://localhost:8080/"
    },
    "id": "Yfbeg3KHQ4oH",
    "outputId": "8ba53d7b-ab0f-489e-f87d-adac816679b2"
   },
   "outputs": [
    {
     "name": "stdout",
     "output_type": "stream",
     "text": [
      "3\n",
      "18\n",
      "28 23\n",
      "50\n",
      "lll 3\n"
     ]
    }
   ],
   "source": [
    "a=np.array(ee).min()\n",
    "print(a)\n",
    "ind=ee.index(a)\n",
    "print(ind)\n",
    "print(mm[ind],cc[ind])\n",
    "print(len(ee))\n",
    "print(\"lll\",ee[18])"
   ]
  },
  {
   "cell_type": "code",
   "execution_count": null,
   "metadata": {
    "colab": {
     "base_uri": "https://localhost:8080/"
    },
    "id": "K7dpn-laZcWF",
    "outputId": "92d2c79b-5d5b-475c-ef3b-cdfd0e95cd0b"
   },
   "outputs": [
    {
     "name": "stdout",
     "output_type": "stream",
     "text": [
      "259\n",
      "162\n",
      "302\n",
      "41\n",
      "17\n",
      "230\n",
      "42\n",
      "91\n",
      "58\n",
      "262\n",
      "65\n",
      "105\n",
      "63\n",
      "258\n",
      "52\n",
      "83\n",
      "32\n",
      "218\n",
      "3\n",
      "25\n",
      "284\n",
      "142\n",
      "237\n",
      "250\n",
      "181\n",
      "30\n",
      "116\n",
      "120\n",
      "42\n",
      "201\n",
      "278\n",
      "273\n",
      "186\n",
      "17\n",
      "85\n",
      "71\n",
      "294\n",
      "116\n",
      "175\n",
      "152\n",
      "47\n",
      "179\n",
      "229\n",
      "197\n",
      "83\n",
      "206\n",
      "247\n",
      "206\n",
      "83\n",
      "197\n"
     ]
    }
   ],
   "source": [
    "for i in range(0,50):\n",
    "  liner(i+10,i+30,i+i,i+1,i+5)"
   ]
  },
  {
   "cell_type": "code",
   "execution_count": null,
   "metadata": {
    "colab": {
     "base_uri": "https://localhost:8080/",
     "height": 283
    },
    "id": "_lgOv6TraexO",
    "outputId": "b2afd817-acf5-480d-f8b7-fe87add97413"
   },
   "outputs": [
    {
     "data": {
      "text/plain": [
       "[<matplotlib.lines.Line2D at 0x7f74fd00f4d0>]"
      ]
     },
     "execution_count": 39,
     "metadata": {},
     "output_type": "execute_result"
    },
    {
     "data": {
      "image/png": "[encoded data removed]",
      "text/plain": [
       "<Figure size 432x288 with 1 Axes>"
      ]
     },
     "metadata": {
      "needs_background": "light"
     },
     "output_type": "display_data"
    }
   ],
   "source": [
    "from matplotlib import pyplot as pt\n",
    "import numpy as np\n",
    "x=[]\n",
    "for i in range(0,50):\n",
    "  x.append(i)\n",
    "pt.plot(x,ee)"
   ]
  },
  {
   "cell_type": "code",
   "execution_count": null,
   "metadata": {
    "colab": {
     "base_uri": "https://localhost:8080/",
     "height": 283
    },
    "id": "Zp97osawmYqh",
    "outputId": "25e24af0-6e42-4c0c-f904-297b8996a330"
   },
   "outputs": [
    {
     "data": {
      "text/plain": [
       "<matplotlib.collections.PathCollection at 0x7f74fce91690>"
      ]
     },
     "execution_count": 40,
     "metadata": {},
     "output_type": "execute_result"
    },
    {
     "data": {
      "image/png": "[encoded data removed]",
      "text/plain": [
       "<Figure size 432x288 with 1 Axes>"
      ]
     },
     "metadata": {
      "needs_background": "light"
     },
     "output_type": "display_data"
    }
   ],
   "source": [
    "from matplotlib import pyplot as plt\n",
    "plt.scatter(x4,y)"
   ]
  },
  {
   "cell_type": "code",
   "execution_count": null,
   "metadata": {
    "colab": {
     "base_uri": "https://localhost:8080/"
    },
    "id": "UJhAWoq1mjlW",
    "outputId": "64b48520-487a-47fc-ff11-e97af53979e7"
   },
   "outputs": [
    {
     "name": "stdout",
     "output_type": "stream",
     "text": [
      "0        21\n",
      "1        27\n",
      "2        36\n",
      "3        29\n",
      "4        21\n",
      "       ... \n",
      "314    1754\n",
      "315     700\n",
      "316     634\n",
      "317     290\n",
      "318     303\n",
      "Name: Maisonneuve_3, Length: 319, dtype: int64 0        58\n",
      "1        75\n",
      "2        79\n",
      "3        10\n",
      "4        42\n",
      "       ... \n",
      "314    3044\n",
      "315    1751\n",
      "316    1818\n",
      "317     979\n",
      "318     913\n",
      "Name: Berri1, Length: 319, dtype: int64\n"
     ]
    }
   ],
   "source": [
    "x5=d['Maisonneuve_3']\n",
    "y=d['Berri1']\n",
    "print(x5,y)"
   ]
  },
  {
   "cell_type": "code",
   "execution_count": null,
   "metadata": {
    "id": "RF7x4nivTdk7"
   },
   "outputs": [],
   "source": [
    "ee=[]\n",
    "import numpy as np\n",
    "mm=[]\n",
    "cc=[]\n",
    "def liner(m1,m2,m3,m4,m5,c):\n",
    "  ye=[]\n",
    "  yp=[]\n",
    "  sum=0\n",
    "  mm.append(m1)\n",
    "  cc.append(c)\n",
    "  for i in range(0,len(x1)):\n",
    "    yp.append(m1*x1[i]+m2*x2[i]+m3*x3[i]+m4*x4[i]+m5*x5[i]+c)\n",
    "    ye.append((y[i]-yp[i])**2)\n",
    "  for i in range(0,len(x1)):\n",
    "    sum=sum+ye[i]\n",
    "  ee1=np.mod(sum,len(x1))\n",
    "  ee.append(ee1)\n",
    "  print(ee1)"
   ]
  },
  {
   "cell_type": "code",
   "execution_count": null,
   "metadata": {
    "colab": {
     "base_uri": "https://localhost:8080/"
    },
    "id": "etwey8vqRiDs",
    "outputId": "1ba95e12-34f8-4673-f5f3-e4c82fa932cc"
   },
   "outputs": [
    {
     "name": "stdout",
     "output_type": "stream",
     "text": [
      "4\n",
      "46\n",
      "56 55\n",
      "50\n",
      "lll 4\n"
     ]
    }
   ],
   "source": [
    "a=np.array(ee).min()\n",
    "print(a)\n",
    "ind=ee.index(a)\n",
    "print(ind)\n",
    "print(mm[ind],cc[ind])\n",
    "print(len(ee))\n",
    "print(\"lll\",ee[46])"
   ]
  },
  {
   "cell_type": "code",
   "execution_count": null,
   "metadata": {
    "colab": {
     "base_uri": "https://localhost:8080/"
    },
    "id": "7_JoEVTqUVm0",
    "outputId": "f7e12b60-66c4-4e3a-b6bb-6e81e2a09417"
   },
   "outputs": [
    {
     "name": "stdout",
     "output_type": "stream",
     "text": [
      "69\n",
      "149\n",
      "136\n",
      "30\n",
      "150\n",
      "177\n",
      "111\n",
      "271\n",
      "19\n",
      "312\n",
      "193\n",
      "300\n",
      "314\n",
      "235\n",
      "63\n",
      "117\n",
      "78\n",
      "265\n",
      "40\n",
      "41\n",
      "268\n",
      "83\n",
      "124\n",
      "72\n",
      "246\n",
      "8\n",
      "315\n",
      "210\n",
      "12\n",
      "40\n",
      "294\n",
      "136\n",
      "204\n",
      "179\n",
      "61\n",
      "169\n",
      "184\n",
      "106\n",
      "254\n",
      "309\n",
      "271\n",
      "140\n",
      "235\n",
      "237\n",
      "146\n",
      "281\n",
      "4\n",
      "272\n",
      "128\n",
      "210\n"
     ]
    }
   ],
   "source": [
    "for i in range(0,50):\n",
    "  liner(i+10,i+20,i+30,i+i,i+5,i+9)"
   ]
  },
  {
   "cell_type": "code",
   "execution_count": null,
   "metadata": {
    "colab": {
     "base_uri": "https://localhost:8080/",
     "height": 283
    },
    "id": "fXopAGrHemVN",
    "outputId": "cbf87826-71a3-4499-a4d5-d98c7e47e140"
   },
   "outputs": [
    {
     "data": {
      "text/plain": [
       "[<matplotlib.lines.Line2D at 0x7f74fce12e50>]"
      ]
     },
     "execution_count": 46,
     "metadata": {},
     "output_type": "execute_result"
    },
    {
     "data": {
      "image/png": "[encoded data removed]",
      "text/plain": [
       "<Figure size 432x288 with 1 Axes>"
      ]
     },
     "metadata": {
      "needs_background": "light"
     },
     "output_type": "display_data"
    }
   ],
   "source": [
    "from matplotlib import pyplot as pt\n",
    "import numpy as np\n",
    "x=[]\n",
    "for i in range(0,50):\n",
    "  x.append(i)\n",
    "pt.plot(x,ee)"
   ]
  },
  {
   "cell_type": "code",
   "execution_count": null,
   "metadata": {
    "colab": {
     "base_uri": "https://localhost:8080/",
     "height": 283
    },
    "id": "HmXK6Sybmyhz",
    "outputId": "d427c7ea-f26f-4e0a-e532-534b2f55783a"
   },
   "outputs": [
    {
     "data": {
      "text/plain": [
       "<matplotlib.collections.PathCollection at 0x7f74fcddc810>"
      ]
     },
     "execution_count": 47,
     "metadata": {},
     "output_type": "execute_result"
    },
    {
     "data": {
      "image/png": "[encoded data removed]",
      "text/plain": [
       "<Figure size 432x288 with 1 Axes>"
      ]
     },
     "metadata": {
      "needs_background": "light"
     },
     "output_type": "display_data"
    }
   ],
   "source": [
    "from matplotlib import pyplot as plt\n",
    "plt.scatter(x5,y)"
   ]
  },
  {
   "cell_type": "code",
   "execution_count": null,
   "metadata": {
    "colab": {
     "base_uri": "https://localhost:8080/"
    },
    "id": "nO28Rl0dm_e8",
    "outputId": "723e05e8-8f56-4dc3-f3af-881d5eaf02e1"
   },
   "outputs": [
    {
     "name": "stdout",
     "output_type": "stream",
     "text": [
      "0        16\n",
      "1         9\n",
      "2        12\n",
      "3         1\n",
      "4         1\n",
      "       ... \n",
      "314    1142\n",
      "315     675\n",
      "316     477\n",
      "317     310\n",
      "318     224\n",
      "Name: Notre-Dame, Length: 319, dtype: int64 0        58\n",
      "1        75\n",
      "2        79\n",
      "3        10\n",
      "4        42\n",
      "       ... \n",
      "314    3044\n",
      "315    1751\n",
      "316    1818\n",
      "317     979\n",
      "318     913\n",
      "Name: Berri1, Length: 319, dtype: int64\n"
     ]
    }
   ],
   "source": [
    "x6=d['Notre-Dame']\n",
    "y=d['Berri1']\n",
    "print(x6,y)"
   ]
  },
  {
   "cell_type": "code",
   "execution_count": null,
   "metadata": {
    "id": "iO-uzzRse5IP"
   },
   "outputs": [],
   "source": [
    "ee=[]\n",
    "import numpy as np\n",
    "mm=[]\n",
    "cc=[]\n",
    "def liner(m1,m2,m3,m4,m5,m6,c):\n",
    "  ye=[]\n",
    "  yp=[]\n",
    "  sum=0\n",
    "  mm.append(m1)\n",
    "  cc.append(c)\n",
    "  for i in range(0,len(x1)):\n",
    "    yp.append(m1*x1[i]+m2*x2[i]+m3*x3[i]+m4*x4[i]+m5*x5[i]+m6*x6[i]+c)\n",
    "    ye.append((y[i]-yp[i])**2)\n",
    "  for i in range(0,len(x1)):\n",
    "    sum=sum+ye[i]\n",
    "  ee1=np.mod(sum,len(x1))\n",
    "  ee.append(ee1)\n",
    "  print(ee1)"
   ]
  },
  {
   "cell_type": "code",
   "execution_count": null,
   "metadata": {
    "colab": {
     "base_uri": "https://localhost:8080/"
    },
    "id": "5gwXGpO9SOjd",
    "outputId": "0f2e08f5-58bb-4a51-f76b-dbbe3716e5dd"
   },
   "outputs": [
    {
     "name": "stdout",
     "output_type": "stream",
     "text": [
      "2\n",
      "7\n",
      "17 20\n",
      "50\n",
      "lll 2\n"
     ]
    }
   ],
   "source": [
    "a=np.array(ee).min()\n",
    "print(a)\n",
    "ind=ee.index(a)\n",
    "print(ind)\n",
    "print(mm[ind],cc[ind])\n",
    "print(len(ee))\n",
    "print(\"lll\",ee[7])"
   ]
  },
  {
   "cell_type": "code",
   "execution_count": null,
   "metadata": {
    "colab": {
     "base_uri": "https://localhost:8080/"
    },
    "id": "E3_XU3CgfGpC",
    "outputId": "8e95244a-3f9d-4976-a841-814ed3fd3a19"
   },
   "outputs": [
    {
     "name": "stdout",
     "output_type": "stream",
     "text": [
      "133\n",
      "161\n",
      "219\n",
      "307\n",
      "106\n",
      "254\n",
      "113\n",
      "2\n",
      "240\n",
      "189\n",
      "168\n",
      "177\n",
      "216\n",
      "285\n",
      "65\n",
      "194\n",
      "34\n",
      "223\n",
      "123\n",
      "53\n",
      "13\n",
      "3\n",
      "23\n",
      "73\n",
      "153\n",
      "263\n",
      "84\n",
      "254\n",
      "135\n",
      "46\n",
      "306\n",
      "277\n",
      "278\n",
      "309\n",
      "51\n",
      "142\n",
      "263\n",
      "95\n",
      "276\n",
      "168\n",
      "90\n",
      "42\n",
      "24\n",
      "36\n",
      "78\n",
      "150\n",
      "252\n",
      "65\n",
      "227\n",
      "100\n"
     ]
    }
   ],
   "source": [
    "for i in range(0,50):\n",
    "  liner(i+10,i+20,i+30,i+i,i+5,i+9,i+13)"
   ]
  },
  {
   "cell_type": "code",
   "execution_count": null,
   "metadata": {
    "colab": {
     "base_uri": "https://localhost:8080/",
     "height": 283
    },
    "id": "sjTwiw0dfToJ",
    "outputId": "43ee4811-d659-4f26-91cd-0b6a06e9523f"
   },
   "outputs": [
    {
     "data": {
      "text/plain": [
       "[<matplotlib.lines.Line2D at 0x7f74fcd75ad0>]"
      ]
     },
     "execution_count": 53,
     "metadata": {},
     "output_type": "execute_result"
    },
    {
     "data": {
      "image/png": "[encoded data removed]",
      "text/plain": [
       "<Figure size 432x288 with 1 Axes>"
      ]
     },
     "metadata": {
      "needs_background": "light"
     },
     "output_type": "display_data"
    }
   ],
   "source": [
    "from matplotlib import pyplot as pt\n",
    "import numpy as np\n",
    "x=[]\n",
    "for i in range(0,50):\n",
    "  x.append(i)\n",
    "pt.plot(x,ee)"
   ]
  },
  {
   "cell_type": "code",
   "execution_count": null,
   "metadata": {
    "colab": {
     "base_uri": "https://localhost:8080/",
     "height": 283
    },
    "id": "RE82t0AvnPrv",
    "outputId": "44c98455-85f4-4756-92c5-fdc26038f607"
   },
   "outputs": [
    {
     "data": {
      "text/plain": [
       "<matplotlib.collections.PathCollection at 0x7f74fccdb5d0>"
      ]
     },
     "execution_count": 54,
     "metadata": {},
     "output_type": "execute_result"
    },
    {
     "data": {
      "image/png": "[encoded data removed]",
      "text/plain": [
       "<Figure size 432x288 with 1 Axes>"
      ]
     },
     "metadata": {
      "needs_background": "light"
     },
     "output_type": "display_data"
    }
   ],
   "source": [
    "from matplotlib import pyplot as plt\n",
    "plt.scatter(x6,y)"
   ]
  },
  {
   "cell_type": "code",
   "execution_count": null,
   "metadata": {
    "colab": {
     "base_uri": "https://localhost:8080/"
    },
    "id": "ytvS0Yqvnecg",
    "outputId": "2f11dcd7-5df2-469c-9fce-af0688533356"
   },
   "outputs": [
    {
     "name": "stdout",
     "output_type": "stream",
     "text": [
      "0        16\n",
      "1        32\n",
      "2        18\n",
      "3         0\n",
      "4         1\n",
      "       ... \n",
      "314    2342\n",
      "315    1566\n",
      "316    1522\n",
      "317     601\n",
      "318     666\n",
      "Name: Parc, Length: 319, dtype: int64 0        58\n",
      "1        75\n",
      "2        79\n",
      "3        10\n",
      "4        42\n",
      "       ... \n",
      "314    3044\n",
      "315    1751\n",
      "316    1818\n",
      "317     979\n",
      "318     913\n",
      "Name: Berri1, Length: 319, dtype: int64\n"
     ]
    }
   ],
   "source": [
    "x7=d['Parc']\n",
    "y=d['Berri1']\n",
    "print(x7,y)"
   ]
  },
  {
   "cell_type": "code",
   "execution_count": null,
   "metadata": {
    "id": "XdhBS8vPfpRf"
   },
   "outputs": [],
   "source": [
    "ee=[]\n",
    "import numpy as np\n",
    "mm=[]\n",
    "cc=[]\n",
    "def liner(m1,m2,m3,m4,m5,m6,m7,c):\n",
    "  ye=[]\n",
    "  yp=[]\n",
    "  sum=0\n",
    "  mm.append(m1)\n",
    "  cc.append(c)\n",
    "  for i in range(0,len(x1)):\n",
    "    yp.append(m1*x1[i]+m2*x2[i]+m3*x3[i]+m4*x4[i]+m5*x5[i]+m6*x6[i]+m7*x7[i]+c)\n",
    "    ye.append((y[i]-yp[i])**2)\n",
    "  for i in range(0,len(x1)):\n",
    "    sum=sum+ye[i]\n",
    "  ee1=np.mod(sum,len(x1))\n",
    "  ee.append(ee1)\n",
    "  print(ee1)"
   ]
  },
  {
   "cell_type": "code",
   "execution_count": null,
   "metadata": {
    "colab": {
     "base_uri": "https://localhost:8080/"
    },
    "id": "sh405-CoS43Y",
    "outputId": "2e8c22c7-f259-4df9-a9de-424469d07d32"
   },
   "outputs": [
    {
     "name": "stdout",
     "output_type": "stream",
     "text": [
      "0\n",
      "36\n",
      "46 51\n",
      "50\n",
      "lll 0\n"
     ]
    }
   ],
   "source": [
    "a=np.array(ee).min()\n",
    "print(a)\n",
    "ind=ee.index(a)\n",
    "print(ind)\n",
    "print(mm[ind],cc[ind])\n",
    "print(len(ee))\n",
    "print(\"lll\",ee[36])"
   ]
  },
  {
   "cell_type": "code",
   "execution_count": null,
   "metadata": {
    "colab": {
     "base_uri": "https://localhost:8080/"
    },
    "id": "TEhOO0FjgTfp",
    "outputId": "47cec4ed-609e-441d-9abf-625241036338"
   },
   "outputs": [
    {
     "name": "stdout",
     "output_type": "stream",
     "text": [
      "88\n",
      "228\n",
      "52\n",
      "198\n",
      "28\n",
      "180\n",
      "16\n",
      "174\n",
      "16\n",
      "180\n",
      "28\n",
      "198\n",
      "52\n",
      "228\n",
      "88\n",
      "270\n",
      "136\n",
      "5\n",
      "196\n",
      "71\n",
      "268\n",
      "149\n",
      "33\n",
      "239\n",
      "129\n",
      "22\n",
      "237\n",
      "136\n",
      "38\n",
      "262\n",
      "170\n",
      "81\n",
      "314\n",
      "231\n",
      "151\n",
      "74\n",
      "0\n",
      "248\n",
      "180\n",
      "115\n",
      "53\n",
      "313\n",
      "257\n",
      "204\n",
      "154\n",
      "107\n",
      "63\n",
      "22\n",
      "303\n",
      "268\n"
     ]
    }
   ],
   "source": [
    "for i in range(0,50):\n",
    "  liner(i+10,i+20,i+30,i+i,i+5,i+9,i+13,i+15)"
   ]
  },
  {
   "cell_type": "code",
   "execution_count": null,
   "metadata": {
    "colab": {
     "base_uri": "https://localhost:8080/",
     "height": 283
    },
    "id": "kqDWeUacgerC",
    "outputId": "f9b29517-d796-43ee-b6ca-f45635f99efc"
   },
   "outputs": [
    {
     "data": {
      "text/plain": [
       "[<matplotlib.lines.Line2D at 0x7f74fcc5c8d0>]"
      ]
     },
     "execution_count": 64,
     "metadata": {},
     "output_type": "execute_result"
    },
    {
     "data": {
      "image/png": "[encoded data removed]",
      "text/plain": [
       "<Figure size 432x288 with 1 Axes>"
      ]
     },
     "metadata": {
      "needs_background": "light"
     },
     "output_type": "display_data"
    }
   ],
   "source": [
    "from matplotlib import pyplot as pt\n",
    "import numpy as np\n",
    "x=[]\n",
    "for i in range(0,50):\n",
    "  x.append(i)\n",
    "pt.plot(x,ee)"
   ]
  },
  {
   "cell_type": "code",
   "execution_count": null,
   "metadata": {
    "colab": {
     "base_uri": "https://localhost:8080/",
     "height": 283
    },
    "id": "QktfgojUnrs9",
    "outputId": "e96d1d6c-3c5d-41a7-b646-8f65bfa8ccd9"
   },
   "outputs": [
    {
     "data": {
      "text/plain": [
       "<matplotlib.collections.PathCollection at 0x7f74fcbc7490>"
      ]
     },
     "execution_count": 65,
     "metadata": {},
     "output_type": "execute_result"
    },
    {
     "data": {
      "image/png": "[encoded data removed]",
      "text/plain": [
       "<Figure size 432x288 with 1 Axes>"
      ]
     },
     "metadata": {
      "needs_background": "light"
     },
     "output_type": "display_data"
    }
   ],
   "source": [
    "from matplotlib import pyplot as plt\n",
    "plt.scatter(x7,y)"
   ]
  },
  {
   "cell_type": "code",
   "execution_count": null,
   "metadata": {
    "colab": {
     "base_uri": "https://localhost:8080/"
    },
    "id": "HgGFZOJioF6y",
    "outputId": "c16c6ef7-1556-43ad-e401-b5efafa9a253"
   },
   "outputs": [
    {
     "name": "stdout",
     "output_type": "stream",
     "text": [
      "0        7\n",
      "1       11\n",
      "2        2\n",
      "3        0\n",
      "4        6\n",
      "      ... \n",
      "314    458\n",
      "315    152\n",
      "316    150\n",
      "317     98\n",
      "318    224\n",
      "Name: PierDup, Length: 319, dtype: int64 0        58\n",
      "1        75\n",
      "2        79\n",
      "3        10\n",
      "4        42\n",
      "       ... \n",
      "314    3044\n",
      "315    1751\n",
      "316    1818\n",
      "317     979\n",
      "318     913\n",
      "Name: Berri1, Length: 319, dtype: int64\n"
     ]
    }
   ],
   "source": [
    "x8=d['PierDup']\n",
    "y=d['Berri1']\n",
    "print(x8,y)"
   ]
  },
  {
   "cell_type": "code",
   "execution_count": null,
   "metadata": {
    "id": "Qcl5JIexgxQs"
   },
   "outputs": [],
   "source": [
    "ee=[]\n",
    "import numpy as np\n",
    "mm=[]\n",
    "cc=[]\n",
    "def liner(m1,m2,m3,m4,m5,m6,m7,m8,c):\n",
    "  ye=[]\n",
    "  yp=[]\n",
    "  sum=0\n",
    "  mm.append(m1)\n",
    "  cc.append(c)\n",
    "  for i in range(0,len(x1)):\n",
    "    yp.append(m1*x1[i]+m2*x2[i]+m3*x3[i]+m4*x4[i]+m5*x5[i]+m6*x6[i]+m7*x7[i]+m8*x8[i]+c)\n",
    "    ye.append((y[i]-yp[i])**2)\n",
    "  for i in range(0,len(x1)):\n",
    "    sum=sum+ye[i]\n",
    "  ee1=np.mod(sum,len(x1))\n",
    "  ee.append(ee1)\n",
    "  print(ee1)"
   ]
  },
  {
   "cell_type": "code",
   "execution_count": null,
   "metadata": {
    "colab": {
     "base_uri": "https://localhost:8080/"
    },
    "id": "xZd7ud3UUzii",
    "outputId": "9d47bd17-0e7b-43a8-9378-c225bcab42c3"
   },
   "outputs": [
    {
     "name": "stdout",
     "output_type": "stream",
     "text": [
      "4\n",
      "13\n",
      "23 33\n",
      "50\n",
      "lll 56\n"
     ]
    }
   ],
   "source": [
    "a=np.array(ee).min()\n",
    "print(a)\n",
    "ind=ee.index(a)\n",
    "print(ind)\n",
    "print(mm[ind],cc[ind])\n",
    "print(len(ee))\n",
    "print(\"lll\",ee[25])\n"
   ]
  },
  {
   "cell_type": "code",
   "execution_count": null,
   "metadata": {
    "colab": {
     "base_uri": "https://localhost:8080/"
    },
    "id": "u7cFtzUng_FP",
    "outputId": "4d0458db-33d7-4855-c668-645f721e8341"
   },
   "outputs": [
    {
     "name": "stdout",
     "output_type": "stream",
     "text": [
      "104\n",
      "119\n",
      "257\n",
      "199\n",
      "264\n",
      "133\n",
      "125\n",
      "240\n",
      "159\n",
      "201\n",
      "47\n",
      "16\n",
      "108\n",
      "4\n",
      "23\n",
      "165\n",
      "111\n",
      "180\n",
      "53\n",
      "49\n",
      "168\n",
      "91\n",
      "137\n",
      "306\n",
      "279\n",
      "56\n",
      "275\n",
      "298\n",
      "125\n",
      "75\n",
      "148\n",
      "25\n",
      "25\n",
      "148\n",
      "75\n",
      "125\n",
      "298\n",
      "275\n",
      "56\n",
      "279\n",
      "306\n",
      "137\n",
      "91\n",
      "168\n",
      "49\n",
      "53\n",
      "180\n",
      "111\n",
      "165\n",
      "23\n"
     ]
    }
   ],
   "source": [
    "for i in range(0,50):\n",
    "  liner(i+10,i+20,i+30,i+i,i+5,i+9,i+13,i+15,i+20)"
   ]
  },
  {
   "cell_type": "code",
   "execution_count": null,
   "metadata": {
    "colab": {
     "base_uri": "https://localhost:8080/",
     "height": 283
    },
    "id": "h3MSqMj2hXMv",
    "outputId": "f6f750d1-96cb-4655-99e8-742e76afa6e5"
   },
   "outputs": [
    {
     "data": {
      "text/plain": [
       "[<matplotlib.lines.Line2D at 0x7f74fced9690>]"
      ]
     },
     "execution_count": 78,
     "metadata": {},
     "output_type": "execute_result"
    },
    {
     "data": {
      "image/png": "[encoded data removed]",
      "text/plain": [
       "<Figure size 432x288 with 1 Axes>"
      ]
     },
     "metadata": {
      "needs_background": "light"
     },
     "output_type": "display_data"
    }
   ],
   "source": [
    "from matplotlib import pyplot as pt\n",
    "import numpy as np\n",
    "x=[]\n",
    "for i in range(0,50):\n",
    "  x.append(i)\n",
    "pt.plot(x,ee)"
   ]
  },
  {
   "cell_type": "code",
   "execution_count": null,
   "metadata": {
    "colab": {
     "base_uri": "https://localhost:8080/",
     "height": 283
    },
    "id": "eBOP4s3KofJ7",
    "outputId": "7d0d394d-7c30-442f-f054-56aa1487ebef"
   },
   "outputs": [
    {
     "data": {
      "text/plain": [
       "<matplotlib.collections.PathCollection at 0x7f74fcc0fdd0>"
      ]
     },
     "execution_count": 79,
     "metadata": {},
     "output_type": "execute_result"
    },
    {
     "data": {
      "image/png": "[encoded data removed]",
      "text/plain": [
       "<Figure size 432x288 with 1 Axes>"
      ]
     },
     "metadata": {
      "needs_background": "light"
     },
     "output_type": "display_data"
    }
   ],
   "source": [
    "from matplotlib import pyplot as plt\n",
    "plt.scatter(x8,y)"
   ]
  },
  {
   "cell_type": "code",
   "execution_count": null,
   "metadata": {
    "colab": {
     "base_uri": "https://localhost:8080/"
    },
    "id": "8Q4KestBozM9",
    "outputId": "725914e9-18ab-4a44-a7bb-3ada4e63501d"
   },
   "outputs": [
    {
     "name": "stdout",
     "output_type": "stream",
     "text": [
      "0        58\n",
      "1       109\n",
      "2        71\n",
      "3         6\n",
      "4         0\n",
      "       ... \n",
      "314    2328\n",
      "315    1345\n",
      "316    1416\n",
      "317    1061\n",
      "318    1094\n",
      "Name: Rachel , Length: 319, dtype: int64 0        58\n",
      "1        75\n",
      "2        79\n",
      "3        10\n",
      "4        42\n",
      "       ... \n",
      "314    3044\n",
      "315    1751\n",
      "316    1818\n",
      "317     979\n",
      "318     913\n",
      "Name: Berri1, Length: 319, dtype: int64\n"
     ]
    }
   ],
   "source": [
    "x9=d['Rachel ']\n",
    "y=d['Berri1']\n",
    "print(x9,y)"
   ]
  },
  {
   "cell_type": "code",
   "execution_count": null,
   "metadata": {
    "id": "rSwxeFkEhq-b"
   },
   "outputs": [],
   "source": [
    "ee=[]\n",
    "import numpy as np\n",
    "mm=[]\n",
    "cc=[]\n",
    "def liner(m1,m2,m3,m4,m5,m6,m7,m8,m9,c):\n",
    "  ye=[]\n",
    "  yp=[]\n",
    "  sum=0\n",
    "  mm.append(m1)\n",
    "  cc.append(c)\n",
    "  for i in range(0,len(x1)):\n",
    "    yp.append(m1*x1[i]+m2*x2[i]+m3*x3[i]+m4*x4[i]+m5*x5[i]+m6*x6[i]+m7*x7[i]+m8*x8[i]+m9*x9[i]+c)\n",
    "    ye.append((y[i]-yp[i])**2)\n",
    "  for i in range(0,len(x1)):\n",
    "    sum=sum+ye[i]\n",
    "  ee1=np.mod(sum,len(x1))\n",
    "  ee.append(ee1)\n",
    "  print(ee1)"
   ]
  },
  {
   "cell_type": "code",
   "execution_count": null,
   "metadata": {
    "colab": {
     "base_uri": "https://localhost:8080/"
    },
    "id": "Z1D22aK6Vrj-",
    "outputId": "1bc4cdaf-9e49-4f38-96d8-73c62882747c"
   },
   "outputs": [
    {
     "name": "stdout",
     "output_type": "stream",
     "text": [
      "10\n",
      "20\n",
      "30 45\n",
      "50\n",
      "lll 10\n"
     ]
    }
   ],
   "source": [
    "a=np.array(ee).min()\n",
    "print(a)\n",
    "ind=ee.index(a)\n",
    "print(ind)\n",
    "print(mm[ind],cc[ind])\n",
    "print(len(ee))\n",
    "print(\"lll\",ee[20])"
   ]
  },
  {
   "cell_type": "code",
   "execution_count": null,
   "metadata": {
    "colab": {
     "base_uri": "https://localhost:8080/"
    },
    "id": "P2sLkiauh8Jm",
    "outputId": "7f0f2cdc-2fe0-41cb-dce5-a743facfabd8"
   },
   "outputs": [
    {
     "name": "stdout",
     "output_type": "stream",
     "text": [
      "238\n",
      "230\n",
      "225\n",
      "223\n",
      "224\n",
      "228\n",
      "235\n",
      "245\n",
      "258\n",
      "274\n",
      "293\n",
      "315\n",
      "21\n",
      "49\n",
      "80\n",
      "114\n",
      "151\n",
      "191\n",
      "234\n",
      "280\n",
      "10\n",
      "62\n",
      "117\n",
      "175\n",
      "236\n",
      "300\n",
      "48\n",
      "118\n",
      "191\n",
      "267\n",
      "27\n",
      "109\n",
      "194\n",
      "282\n",
      "54\n",
      "148\n",
      "245\n",
      "26\n",
      "129\n",
      "235\n",
      "25\n",
      "137\n",
      "252\n",
      "51\n",
      "172\n",
      "296\n",
      "104\n",
      "234\n",
      "48\n",
      "184\n"
     ]
    }
   ],
   "source": [
    "for i in range(0,50):\n",
    "  liner(i+10,i+20,i+30,i+i,i+5,i+9,i+13,i+15,i+20,i+25)"
   ]
  },
  {
   "cell_type": "code",
   "execution_count": null,
   "metadata": {
    "colab": {
     "base_uri": "https://localhost:8080/",
     "height": 283
    },
    "id": "J-YfcdRBWTzF",
    "outputId": "6c74e67e-c914-4c55-802d-6475d1aa9259"
   },
   "outputs": [
    {
     "data": {
      "text/plain": [
       "[<matplotlib.lines.Line2D at 0x7f74fca82050>]"
      ]
     },
     "execution_count": 89,
     "metadata": {},
     "output_type": "execute_result"
    },
    {
     "data": {
      "image/png": "[encoded data removed]",
      "text/plain": [
       "<Figure size 432x288 with 1 Axes>"
      ]
     },
     "metadata": {
      "needs_background": "light"
     },
     "output_type": "display_data"
    }
   ],
   "source": [
    "from matplotlib import pyplot as pt\n",
    "import numpy as np\n",
    "x=[]\n",
    "for i in range(0,50):\n",
    "  x.append(i)\n",
    "pt.plot(x,ee)"
   ]
  },
  {
   "cell_type": "code",
   "execution_count": null,
   "metadata": {
    "colab": {
     "base_uri": "https://localhost:8080/",
     "height": 283
    },
    "id": "XXaXW9h-pKqQ",
    "outputId": "ec69ddec-a49a-4555-94ad-9e8bedecca2e"
   },
   "outputs": [
    {
     "data": {
      "text/plain": [
       "<matplotlib.collections.PathCollection at 0x7f74fca5bb50>"
      ]
     },
     "execution_count": 90,
     "metadata": {},
     "output_type": "execute_result"
    },
    {
     "data": {
      "image/png": "[encoded data removed]",
      "text/plain": [
       "<Figure size 432x288 with 1 Axes>"
      ]
     },
     "metadata": {
      "needs_background": "light"
     },
     "output_type": "display_data"
    }
   ],
   "source": [
    "from matplotlib import pyplot as plt\n",
    "plt.scatter(x9,y)"
   ]
  },
  {
   "cell_type": "code",
   "execution_count": null,
   "metadata": {
    "colab": {
     "base_uri": "https://localhost:8080/"
    },
    "id": "hodCg6xIpahJ",
    "outputId": "793eacb5-1ad4-43fd-847f-bd22cfe3a14c"
   },
   "outputs": [
    {
     "name": "stdout",
     "output_type": "stream",
     "text": [
      "0        91\n",
      "1       177\n",
      "2       131\n",
      "3        11\n",
      "4         5\n",
      "       ... \n",
      "314    3280\n",
      "315    1877\n",
      "316    1980\n",
      "317    1448\n",
      "318    1491\n",
      "Name: Rachel / Papineau, Length: 319, dtype: int64 0        58\n",
      "1        75\n",
      "2        79\n",
      "3        10\n",
      "4        42\n",
      "       ... \n",
      "314    3044\n",
      "315    1751\n",
      "316    1818\n",
      "317     979\n",
      "318     913\n",
      "Name: Berri1, Length: 319, dtype: int64\n"
     ]
    }
   ],
   "source": [
    "x10=d['Rachel / Papineau']\n",
    "y=d['Berri1']\n",
    "print(x10,y)"
   ]
  },
  {
   "cell_type": "code",
   "execution_count": null,
   "metadata": {
    "id": "LX_4lTylWnmG"
   },
   "outputs": [],
   "source": [
    "ee=[]\n",
    "import numpy as np\n",
    "mm=[]\n",
    "cc=[]\n",
    "def liner(m1,m2,m3,m4,m5,m6,m7,m8,m9,m10,c):\n",
    "  ye=[]\n",
    "  yp=[]\n",
    "  sum=0\n",
    "  mm.append(m1)\n",
    "  cc.append(c)\n",
    "  for i in range(0,len(x1)):\n",
    "    yp.append(m1*x1[i]+m2*x2[i]+m3*x3[i]+m4*x4[i]+m5*x5[i]+m6*x6[i]+m7*x7[i]+m8*x8[i]+m9*x9[i]+m10*x10[i]+c)\n",
    "    ye.append((y[i]-yp[i])**2)\n",
    "  for i in range(0,len(x1)):\n",
    "    sum=sum+ye[i]\n",
    "  ee1=np.mod(sum,len(x1))\n",
    "  ee.append(ee1)\n",
    "  print(ee1)"
   ]
  },
  {
   "cell_type": "code",
   "execution_count": null,
   "metadata": {
    "colab": {
     "base_uri": "https://localhost:8080/"
    },
    "id": "kE4z5L78WxOC",
    "outputId": "4cf3a9f5-280b-4eb0-cd67-9583407d3081"
   },
   "outputs": [
    {
     "name": "stdout",
     "output_type": "stream",
     "text": [
      "1\n",
      "21\n",
      "31 47\n",
      "50\n",
      "lll 1\n"
     ]
    }
   ],
   "source": [
    "a=np.array(ee).min()\n",
    "print(a)\n",
    "ind=ee.index(a)\n",
    "print(ind)\n",
    "print(mm[ind],cc[ind])\n",
    "print(len(ee))\n",
    "print(\"lll\",ee[21])"
   ]
  },
  {
   "cell_type": "code",
   "execution_count": null,
   "metadata": {
    "colab": {
     "base_uri": "https://localhost:8080/"
    },
    "id": "3clgoX9TW21e",
    "outputId": "e8dc11de-a160-463b-84ae-467fb4afb1f7"
   },
   "outputs": [
    {
     "name": "stdout",
     "output_type": "stream",
     "text": [
      "116\n",
      "246\n",
      "127\n",
      "78\n",
      "99\n",
      "190\n",
      "32\n",
      "263\n",
      "245\n",
      "297\n",
      "100\n",
      "292\n",
      "235\n",
      "248\n",
      "12\n",
      "165\n",
      "69\n",
      "43\n",
      "87\n",
      "201\n",
      "66\n",
      "1\n",
      "6\n",
      "81\n",
      "226\n",
      "122\n",
      "88\n",
      "124\n",
      "230\n",
      "87\n",
      "14\n",
      "11\n",
      "78\n",
      "215\n",
      "103\n",
      "61\n",
      "89\n",
      "187\n",
      "36\n",
      "274\n",
      "263\n",
      "3\n",
      "132\n",
      "12\n",
      "281\n",
      "301\n",
      "72\n",
      "232\n",
      "143\n",
      "124\n"
     ]
    }
   ],
   "source": [
    "for i in range(0,50):\n",
    "  liner(i+10,i+20,i+30,i+i,i+5,i+9,i+13,i+15,i+20,i+25,i+26)"
   ]
  },
  {
   "cell_type": "code",
   "execution_count": null,
   "metadata": {
    "colab": {
     "base_uri": "https://localhost:8080/",
     "height": 283
    },
    "id": "bI6nwswxXDYw",
    "outputId": "7104becd-1c6a-4071-b09d-a517ddeb30a8"
   },
   "outputs": [
    {
     "data": {
      "text/plain": [
       "[<matplotlib.lines.Line2D at 0x7f74fc9e8690>]"
      ]
     },
     "execution_count": 97,
     "metadata": {},
     "output_type": "execute_result"
    },
    {
     "data": {
      "image/png": "[encoded data removed]",
      "text/plain": [
       "<Figure size 432x288 with 1 Axes>"
      ]
     },
     "metadata": {
      "needs_background": "light"
     },
     "output_type": "display_data"
    }
   ],
   "source": [
    "from matplotlib import pyplot as pt\n",
    "import numpy as np\n",
    "x=[]\n",
    "for i in range(0,50):\n",
    "  x.append(i)\n",
    "pt.plot(x,ee)"
   ]
  },
  {
   "cell_type": "code",
   "execution_count": null,
   "metadata": {
    "colab": {
     "base_uri": "https://localhost:8080/",
     "height": 283
    },
    "id": "JJ9pW8GwqJyx",
    "outputId": "1ced8d44-99e2-46fa-9541-be5339976523"
   },
   "outputs": [
    {
     "data": {
      "text/plain": [
       "<matplotlib.collections.PathCollection at 0x7f74fc952290>"
      ]
     },
     "execution_count": 98,
     "metadata": {},
     "output_type": "execute_result"
    },
    {
     "data": {
      "image/png": "[encoded data removed]",
      "text/plain": [
       "<Figure size 432x288 with 1 Axes>"
      ]
     },
     "metadata": {
      "needs_background": "light"
     },
     "output_type": "display_data"
    }
   ],
   "source": [
    "from matplotlib import pyplot as plt\n",
    "plt.scatter(x10,y)"
   ]
  }
 ],
 "metadata": {
  "colab": {
   "collapsed_sections": [],
   "name": " J-COMPONENT GROUP-16",
   "provenance": []
  },
  "kernelspec": {
   "display_name": "Python 3 (ipykernel)",
   "language": "python",
   "name": "python3"
  },
  "language_info": {
   "codemirror_mode": {
    "name": "ipython",
    "version": 3
   },
   "file_extension": ".py",
   "mimetype": "text/x-python",
   "name": "python",
   "nbconvert_exporter": "python",
   "pygments_lexer": "ipython3",
   "version": "3.10.5"
  }
 },
 "nbformat": 4,
 "nbformat_minor": 1
}
